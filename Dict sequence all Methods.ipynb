{
 "cells": [
  {
   "cell_type": "code",
   "execution_count": 657,
   "id": "b124f2f5-ed42-4ea6-8d15-b67163f6fef4",
   "metadata": {},
   "outputs": [
    {
     "name": "stdout",
     "output_type": "stream",
     "text": [
      "{1: 'banana', 2: 'apple', 3: 'cherry'}\n"
     ]
    }
   ],
   "source": [
    "# Declaration of List\n",
    "fruits = {1: \"banana\" , 2: \"apple\" ,3: \"cherry\"}\n",
    "print(fruits)"
   ]
  },
  {
   "cell_type": "code",
   "execution_count": 658,
   "id": "8d13486e-8195-4d7a-8fd6-5c05f45cc326",
   "metadata": {},
   "outputs": [
    {
     "name": "stdout",
     "output_type": "stream",
     "text": [
      "{}\n"
     ]
    }
   ],
   "source": [
    "# clear() Removes all items from the dictionary\n",
    "fruits = {1: \"banana\" , 2: \"apple\" ,3: \"cherry\"}\n",
    "fruits.clear()\n",
    "print(fruits)"
   ]
  },
  {
   "cell_type": "code",
   "execution_count": 659,
   "id": "14e40eea-569e-4f45-ab9c-59ad099080a9",
   "metadata": {},
   "outputs": [
    {
     "name": "stdout",
     "output_type": "stream",
     "text": [
      "{1: 'banana', 2: 'apple', 3: 'cherry'}\n"
     ]
    }
   ],
   "source": [
    "#copy() Returns a carbon copy of the dictionary\n",
    "fruits = {1: \"banana\" , 2: \"apple\" ,3: \"cherry\"}\n",
    "x = fruits.copy()\n",
    "print(x)"
   ]
  }
 ],
 "metadata": {
  "kernelspec": {
   "display_name": "Python 3 (ipykernel)",
   "language": "python",
   "name": "python3"
  },
  "language_info": {
   "codemirror_mode": {
    "name": "ipython",
    "version": 3
   },
   "file_extension": ".py",
   "mimetype": "text/x-python",
   "name": "python",
   "nbconvert_exporter": "python",
   "pygments_lexer": "ipython3",
   "version": "3.12.4"
  }
 },
 "nbformat": 4,
 "nbformat_minor": 5
}
